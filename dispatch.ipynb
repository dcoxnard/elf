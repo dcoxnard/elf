{
 "cells": [
  {
   "cell_type": "code",
   "execution_count": 17,
   "id": "284daa4c-0754-4abf-b4ff-e4daab1b89ac",
   "metadata": {},
   "outputs": [],
   "source": [
    "import pickle\n",
    "\n",
    "import pyperclip"
   ]
  },
  {
   "cell_type": "code",
   "execution_count": 18,
   "id": "299ca1e5-caaf-480e-8a39-57ae6fbd54e1",
   "metadata": {},
   "outputs": [],
   "source": [
    "filepath = \"pairs.pkl\"\n",
    "\n",
    "with open(filepath, \"rb\") as f_obj:\n",
    "    pairs = pickle.load(f_obj)"
   ]
  },
  {
   "cell_type": "code",
   "execution_count": 19,
   "id": "4c72b222-0191-49af-88d2-4841d1d6aee7",
   "metadata": {},
   "outputs": [],
   "source": [
    "buying_map = {x[0]: x[1] for x in pairs}"
   ]
  },
  {
   "cell_type": "code",
   "execution_count": 21,
   "id": "f8d14aef-b476-4847-b697-85a0360baed3",
   "metadata": {},
   "outputs": [],
   "source": [
    "# Values need to match exactly with the individual values in the `families` dict in the other NB\n",
    "\n",
    "email_map = {\n",
    "    \"pete_kozak@hotmail.com\": \"Pete\",\n",
    "    \"dianne_kozak@hotmail.com\": \"Dianne\",\n",
    "    \"akozakoxnard@gmail.com\": \"Andrea\",\n",
    "    \"dcoxnard89@gmail.com\": \"Ox\",\n",
    "    \"moody4321@hotmail.com\": \"Norma\",\n",
    "    \"mmoodster@msn.com\": \"Mike\",\n",
    "    \"swjamoody@comcast.com_steve\": \"Steve\",\n",
    "    \"swjamoody@comcast.com_jean\": \"Jean\",\n",
    "    \"liammoody1997@gmail.com\": \"Liam\",\n",
    "    \"johncmoody0321@gmail.com\": \"John\",\n",
    "}"
   ]
  },
  {
   "cell_type": "code",
   "execution_count": 41,
   "id": "5e0e43b1-232b-458a-87eb-f92d2f13bc13",
   "metadata": {},
   "outputs": [
    {
     "name": "stdin",
     "output_type": "stream",
     "text": [
      "Enter a valid email address... johncmoody0321@gmail.com\n"
     ]
    }
   ],
   "source": [
    "inp = input(\"Enter a valid email address...\")\n",
    "\n",
    "name = email_map[inp]\n",
    "buying_for = buying_map[name]"
   ]
  },
  {
   "cell_type": "code",
   "execution_count": 42,
   "id": "fa177749-3a9e-45da-9fbb-c30ceddf6abf",
   "metadata": {},
   "outputs": [],
   "source": [
    "msg = f\"\"\"Holiday Greetings! ☃️\n",
    "\n",
    "This is your official Moody Secret Santa Gift Exchange notification! 🎅🏻  We will be exchanging gifts at this year's Moody Family Christmas 🎄  We have agreed to limit our spending to $50 or less.  \n",
    "\n",
    "Please email me (akozakoxnard@gmail.com) as soon as you can with a list of 3 or more \"wish list\" items that can be shared with your Secret Santa.  In the spirit of secrecy, we have auto-copied and pasted into this email the name of your recipient without peeking 👀 🤫  To preserve that secrecy and prevent us from learning who is matched with whom, we will just compile the wish lists into one email and send it around to everyone at once instead of sending wish lists just to their respective recipients 😄  And as a reminder, all minors (Dylan, Mason, Ingrid, & Liesel) have been excluded from this draw--please feel free to give to them as you normally would.\n",
    "\n",
    "Your Secret Santa recipient is:\n",
    "{buying_for}\n",
    "\n",
    "\n",
    "All the best,\n",
    "Andrea & Ox\"\"\"\n",
    "pyperclip.copy(msg)"
   ]
  }
 ],
 "metadata": {
  "kernelspec": {
   "display_name": "elf",
   "language": "python",
   "name": "elf"
  },
  "language_info": {
   "codemirror_mode": {
    "name": "ipython",
    "version": 3
   },
   "file_extension": ".py",
   "mimetype": "text/x-python",
   "name": "python",
   "nbconvert_exporter": "python",
   "pygments_lexer": "ipython3",
   "version": "3.11.5"
  }
 },
 "nbformat": 4,
 "nbformat_minor": 5
}
