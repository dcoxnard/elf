{
 "cells": [
  {
   "cell_type": "code",
   "execution_count": 470,
   "id": "a7035955-fc4e-475f-946c-2423673ef94e",
   "metadata": {},
   "outputs": [],
   "source": [
    "# import itertools\n",
    "import random\n",
    "import pickle\n",
    "# from copy import deepcopy\n",
    "\n",
    "import pyperclip"
   ]
  },
  {
   "cell_type": "code",
   "execution_count": 318,
   "id": "c798736e-6bf9-414e-baec-5c08841ec75d",
   "metadata": {},
   "outputs": [],
   "source": [
    "families = {\n",
    "    \"corvallis\": {\"Pete\", \"Dianne\", \"Andrea\", \"Ox\"},\n",
    "    \"acey\": {\"Norma\"},\n",
    "    \"eugene\": {\"Mike\"},\n",
    "    \"seattle\": {\"Steve\", \"Jean\", \"Liam\", \"John\"}\n",
    "}"
   ]
  },
  {
   "cell_type": "code",
   "execution_count": 319,
   "id": "8496c152-d15b-48f2-a146-dad9fda6b789",
   "metadata": {},
   "outputs": [],
   "source": [
    "people = {}\n",
    "for family, members in families.items():\n",
    "    for member in members:\n",
    "        people[member] = family"
   ]
  },
  {
   "cell_type": "code",
   "execution_count": 320,
   "id": "02a3ddf4-8a65-41b2-b7db-e0f80d9b893e",
   "metadata": {},
   "outputs": [],
   "source": [
    "def map_to_same(m1, m2, mapper):\n",
    "    return mapper[m1] == mapper[m2]"
   ]
  },
  {
   "cell_type": "code",
   "execution_count": 6,
   "id": "3b80f3f6-c6e1-450a-8f5b-32bef45b97c3",
   "metadata": {},
   "outputs": [],
   "source": [
    "# This fails randomly because it doesn't do proper DFS\n",
    "# It can be workable by just rerunning until it hits a solution\n",
    "\n",
    "def pair_up(givers_remaining: list[str], receivers_remaining: list[str]):\n",
    "    \n",
    "    if not givers_remaining or not receivers_remaining:\n",
    "        return []\n",
    "\n",
    "    random.shuffle(givers_remaining)\n",
    "    random.shuffle(receivers_remaining)\n",
    "    for giver in givers_remaining:\n",
    "        for receiver in receivers_remaining:    \n",
    "            if map_to_same(giver, receiver, people):\n",
    "                continue\n",
    "            else:\n",
    "                new_pair = [giver, receiver]\n",
    "                new_givers = [g for g in givers_remaining if g != giver]\n",
    "                new_receivers = [r for r in receivers_remaining if r != receiver]\n",
    "                return [new_pair] + pair_up(new_givers, new_receivers)"
   ]
  },
  {
   "cell_type": "code",
   "execution_count": 7,
   "id": "da91757b-daa3-4164-87d1-5b010c4d5a2d",
   "metadata": {},
   "outputs": [],
   "source": [
    "pairs = pair_up(list(people.keys()), list(people.keys()))"
   ]
  },
  {
   "cell_type": "code",
   "execution_count": 8,
   "id": "73f1be61-eaff-4e7a-b10f-bd6a2610c53c",
   "metadata": {},
   "outputs": [],
   "source": [
    "filepath = \"pairs.pkl\"\n",
    "\n",
    "with open(filepath, \"wb\") as f_obj:\n",
    "    pickle.dump(pairs, f_obj)"
   ]
  },
  {
   "cell_type": "markdown",
   "id": "bfbc9c9c-c5de-4cf0-9215-7efe7e0ab001",
   "metadata": {},
   "source": [
    "## Try Again"
   ]
  },
  {
   "cell_type": "code",
   "execution_count": 431,
   "id": "54cfd706-02ec-4026-843e-7fa287b05caa",
   "metadata": {},
   "outputs": [],
   "source": [
    "families = {\n",
    "    \"corvallis\": {\"Pete\", \"Dianne\", \"Andrea\", \"Ox\"},\n",
    "    \"acey\": {\"Norma\"},\n",
    "    \"eugene\": {\"Mike\"},\n",
    "    \"seattle\": {\"Steve\", \"Jean\", \"Liam\", \"John\"}\n",
    "}"
   ]
  },
  {
   "cell_type": "code",
   "execution_count": 432,
   "id": "68305666-4c14-43a6-a39d-702780c23259",
   "metadata": {},
   "outputs": [],
   "source": [
    "people = {}\n",
    "for family, members in families.items():\n",
    "    for member in members:\n",
    "        people[member] = family"
   ]
  },
  {
   "cell_type": "code",
   "execution_count": 465,
   "id": "6f953fbb-063a-4aec-b0d4-b7cc3fab02c3",
   "metadata": {},
   "outputs": [],
   "source": [
    "# This works!\n",
    "# Returns an ordered list of pairs.\n",
    "# The results are stochastic.\n",
    "# It may result in a \"bipartite graph\" ie where there are\n",
    "# e.g. 2+ \"little\" cycles rather than one \"big\" one\n",
    "\n",
    "def pair(a, b):\n",
    "\n",
    "    acc = []\n",
    "    def go(a, b, inner=[]):\n",
    "        \n",
    "        if len(inner) == 10:\n",
    "            acc.append(inner)\n",
    "            return\n",
    "        \n",
    "        if len(acc) > 0:\n",
    "            return\n",
    "    \n",
    "        else:\n",
    "            random.shuffle(a)\n",
    "            random.shuffle(b)\n",
    "            for aa in a:\n",
    "                for bb in b:\n",
    "                    if people[aa] == people[bb]:\n",
    "                        continue\n",
    "                    else:\n",
    "                        new_a = [aaa for aaa in a if aaa != aa]\n",
    "                        new_b = [bbb for bbb in b if bbb != bb]\n",
    "                        new_inner = inner + [[aa, bb]]\n",
    "                        go(new_a, new_b, new_inner)\n",
    "    go(a, b)\n",
    "    result = acc[0]\n",
    "    ordered_result = [result.pop()]\n",
    "    while result:\n",
    "        ix = None\n",
    "        for i, item in enumerate(result):\n",
    "            if item[0] == ordered_result[-1][1]:\n",
    "                ix = i\n",
    "                break\n",
    "        if ix is None:  # Bipartite graph -- just start over at 0\n",
    "            ix = 0\n",
    "        next_elem = result.pop(ix)\n",
    "        ordered_result.append(next_elem)\n",
    "    return ordered_result"
   ]
  },
  {
   "cell_type": "code",
   "execution_count": 469,
   "id": "6362539b-7969-4678-b962-e958ac4bf65d",
   "metadata": {},
   "outputs": [
    {
     "data": {
      "text/plain": [
       "[['Dianne', 'John'],\n",
       " ['John', 'Norma'],\n",
       " ['Norma', 'Andrea'],\n",
       " ['Andrea', 'Mike'],\n",
       " ['Mike', 'Steve'],\n",
       " ['Steve', 'Ox'],\n",
       " ['Ox', 'Jean'],\n",
       " ['Jean', 'Dianne'],\n",
       " ['Liam', 'Pete'],\n",
       " ['Pete', 'Liam']]"
      ]
     },
     "execution_count": 469,
     "metadata": {},
     "output_type": "execute_result"
    }
   ],
   "source": [
    "result = pair(list(people.keys()), list(people.keys()))\n",
    "result"
   ]
  },
  {
   "cell_type": "code",
   "execution_count": null,
   "id": "91d07c0d-0a30-4849-9f8f-03427dbdf633",
   "metadata": {},
   "outputs": [],
   "source": []
  }
 ],
 "metadata": {
  "kernelspec": {
   "display_name": "elf",
   "language": "python",
   "name": "elf"
  },
  "language_info": {
   "codemirror_mode": {
    "name": "ipython",
    "version": 3
   },
   "file_extension": ".py",
   "mimetype": "text/x-python",
   "name": "python",
   "nbconvert_exporter": "python",
   "pygments_lexer": "ipython3",
   "version": "3.11.5"
  }
 },
 "nbformat": 4,
 "nbformat_minor": 5
}
